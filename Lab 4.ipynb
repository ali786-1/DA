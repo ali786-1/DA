{
 "cells": [
  {
   "cell_type": "code",
   "execution_count": 1,
   "id": "99fa1d11",
   "metadata": {},
   "outputs": [],
   "source": [
    "import numpy as np\n",
    "import pandas as pd"
   ]
  },
  {
   "cell_type": "markdown",
   "id": "0a5e2c4f",
   "metadata": {},
   "source": [
    "1.\tWrite a Pandas program to create and display a one-dimensional array-like object containing an array of data using Pandas module"
   ]
  },
  {
   "cell_type": "code",
   "execution_count": 2,
   "id": "372adfaf",
   "metadata": {},
   "outputs": [
    {
     "name": "stdout",
     "output_type": "stream",
     "text": [
      "0    1\n",
      "1    2\n",
      "2    3\n",
      "3    4\n",
      "dtype: int64\n"
     ]
    }
   ],
   "source": [
    "a=pd.Series([1,2,3,4])\n",
    "print(a)"
   ]
  },
  {
   "cell_type": "markdown",
   "id": "fdd7bd53",
   "metadata": {},
   "source": [
    "2.\tWrite a pandas program to convert a pandas module series to python list."
   ]
  },
  {
   "cell_type": "code",
   "execution_count": 7,
   "id": "e673dfd2",
   "metadata": {},
   "outputs": [
    {
     "name": "stdout",
     "output_type": "stream",
     "text": [
      "[1, 2, 3, 4]\n"
     ]
    },
    {
     "data": {
      "text/plain": [
       "[1, 2, 3, 4]"
      ]
     },
     "execution_count": 7,
     "metadata": {},
     "output_type": "execute_result"
    }
   ],
   "source": [
    "s=list(a)\n",
    "print(s)\n",
    "a.tolist()\n",
    "# print(a)"
   ]
  },
  {
   "cell_type": "markdown",
   "id": "003c3191",
   "metadata": {},
   "source": [
    "3.\tWrite a pandas program to add, subtract, multiple and divide two pandas series."
   ]
  },
  {
   "cell_type": "code",
   "execution_count": 9,
   "id": "0f4d3eaf",
   "metadata": {},
   "outputs": [
    {
     "name": "stdout",
     "output_type": "stream",
     "text": [
      "0    4\n",
      "1    4\n",
      "2    4\n",
      "3    4\n",
      "dtype: int64\n",
      "0     6\n",
      "1     8\n",
      "2    10\n",
      "3    12\n",
      "dtype: int64\n",
      "0     5\n",
      "1    12\n",
      "2    21\n",
      "3    32\n",
      "dtype: int64\n",
      "0    0.200000\n",
      "1    0.333333\n",
      "2    0.428571\n",
      "3    0.500000\n",
      "dtype: float64\n"
     ]
    }
   ],
   "source": [
    "l=pd.Series([1,2,3,4])\n",
    "m=pd.Series([5,6,7,8])\n",
    "print(m-l)\n",
    "print(l+m)\n",
    "print(l*m)\n",
    "print(l/m)"
   ]
  },
  {
   "cell_type": "markdown",
   "id": "bd491eff",
   "metadata": {},
   "source": [
    "4.\tWrite a Pandas program to convert all the string values to upper, lower cases in a given pandas series. Also find the length of the string values."
   ]
  },
  {
   "cell_type": "code",
   "execution_count": 10,
   "id": "86452e7d",
   "metadata": {},
   "outputs": [
    {
     "name": "stdout",
     "output_type": "stream",
     "text": [
      "0     APPLE\n",
      "1    BANANA\n",
      "2     GUAVA\n",
      "dtype: object\n",
      "0     apple\n",
      "1    banana\n",
      "2     guava\n",
      "dtype: object\n",
      "0    5\n",
      "1    6\n",
      "2    5\n",
      "dtype: int64\n"
     ]
    }
   ],
   "source": [
    "d=pd.Series(['Apple','baNana','GuaVa'])\n",
    "print(d.str.upper())\n",
    "print(d.str.lower())\n",
    "print(d.str.len())\n"
   ]
  },
  {
   "cell_type": "markdown",
   "id": "9bb9da1f",
   "metadata": {},
   "source": [
    "5.\tWrite a Pandas program to remove whitespaces, left sided whitespaces and right sided whitespaces of the string values of a given pandas series"
   ]
  },
  {
   "cell_type": "code",
   "execution_count": 11,
   "id": "727075d8",
   "metadata": {},
   "outputs": [
    {
     "data": {
      "text/plain": [
       "Index(['ali', 'shoheb', 'akram'], dtype='object')"
      ]
     },
     "execution_count": 11,
     "metadata": {},
     "output_type": "execute_result"
    }
   ],
   "source": [
    "f=pd.Index(['   ali  ','shoheb    ','     akram'])\n",
    "f.str.strip()"
   ]
  },
  {
   "cell_type": "markdown",
   "id": "ef8f485e",
   "metadata": {},
   "source": [
    "6.\tWrite a Pandas program to create and display a DataFrame consist of student name, father name , mobile number as columns and register number as index."
   ]
  },
  {
   "cell_type": "code",
   "execution_count": 13,
   "id": "3ed26ce8",
   "metadata": {},
   "outputs": [
    {
     "data": {
      "text/html": [
       "<div>\n",
       "<style scoped>\n",
       "    .dataframe tbody tr th:only-of-type {\n",
       "        vertical-align: middle;\n",
       "    }\n",
       "\n",
       "    .dataframe tbody tr th {\n",
       "        vertical-align: top;\n",
       "    }\n",
       "\n",
       "    .dataframe thead th {\n",
       "        text-align: right;\n",
       "    }\n",
       "</style>\n",
       "<table border=\"1\" class=\"dataframe\">\n",
       "  <thead>\n",
       "    <tr style=\"text-align: right;\">\n",
       "      <th></th>\n",
       "      <th>Name</th>\n",
       "      <th>Father Name</th>\n",
       "      <th>Mobile Number</th>\n",
       "    </tr>\n",
       "  </thead>\n",
       "  <tbody>\n",
       "    <tr>\n",
       "      <th>Y20CS164</th>\n",
       "      <td>Ali</td>\n",
       "      <td>Shabber</td>\n",
       "      <td>9848711015</td>\n",
       "    </tr>\n",
       "    <tr>\n",
       "      <th>Y20CS167</th>\n",
       "      <td>Shoheb</td>\n",
       "      <td>Karimulla</td>\n",
       "      <td>9347235528</td>\n",
       "    </tr>\n",
       "    <tr>\n",
       "      <th>Y20CS162</th>\n",
       "      <td>Akram</td>\n",
       "      <td>Karimulla</td>\n",
       "      <td>8008129519</td>\n",
       "    </tr>\n",
       "  </tbody>\n",
       "</table>\n",
       "</div>"
      ],
      "text/plain": [
       "            Name Father Name  Mobile Number\n",
       "Y20CS164     Ali     Shabber     9848711015\n",
       "Y20CS167  Shoheb   Karimulla     9347235528\n",
       "Y20CS162   Akram   Karimulla     8008129519"
      ]
     },
     "execution_count": 13,
     "metadata": {},
     "output_type": "execute_result"
    }
   ],
   "source": [
    "data={'Name':['Ali','Shoheb','Akram'],\n",
    "     'Father Name':['Shabber','Karimulla','Karimulla'],\n",
    "     'Mobile Number':[9848711015,9347235528,8008129519]}\n",
    "label=[\"Y20CS164\",'Y20CS167','Y20CS162']\n",
    "df=pd.DataFrame(data,index=label)\n",
    "df"
   ]
  },
  {
   "cell_type": "markdown",
   "id": "e6c504ae",
   "metadata": {},
   "source": [
    "7.\tWrite a Pandas program to get list from DataFrame column headers"
   ]
  },
  {
   "cell_type": "code",
   "execution_count": 14,
   "id": "c8617294",
   "metadata": {},
   "outputs": [
    {
     "data": {
      "text/plain": [
       "array(['Name', 'Father Name', 'Mobile Number'], dtype=object)"
      ]
     },
     "execution_count": 14,
     "metadata": {},
     "output_type": "execute_result"
    }
   ],
   "source": [
    "df.columns.values"
   ]
  },
  {
   "cell_type": "markdown",
   "id": "d86ab1b7",
   "metadata": {},
   "source": [
    "8.\tWrite a Pandas program to change the name of the student."
   ]
  },
  {
   "cell_type": "code",
   "execution_count": 15,
   "id": "614ee2cd",
   "metadata": {},
   "outputs": [
    {
     "data": {
      "text/html": [
       "<div>\n",
       "<style scoped>\n",
       "    .dataframe tbody tr th:only-of-type {\n",
       "        vertical-align: middle;\n",
       "    }\n",
       "\n",
       "    .dataframe tbody tr th {\n",
       "        vertical-align: top;\n",
       "    }\n",
       "\n",
       "    .dataframe thead th {\n",
       "        text-align: right;\n",
       "    }\n",
       "</style>\n",
       "<table border=\"1\" class=\"dataframe\">\n",
       "  <thead>\n",
       "    <tr style=\"text-align: right;\">\n",
       "      <th></th>\n",
       "      <th>Name</th>\n",
       "      <th>Father Name</th>\n",
       "      <th>Mobile Number</th>\n",
       "    </tr>\n",
       "  </thead>\n",
       "  <tbody>\n",
       "    <tr>\n",
       "      <th>Y20CS164</th>\n",
       "      <td>Ali</td>\n",
       "      <td>Shabber</td>\n",
       "      <td>9848711015</td>\n",
       "    </tr>\n",
       "    <tr>\n",
       "      <th>Y20CS167</th>\n",
       "      <td>Shoheb</td>\n",
       "      <td>Karimulla</td>\n",
       "      <td>9347235528</td>\n",
       "    </tr>\n",
       "    <tr>\n",
       "      <th>Y20CS162</th>\n",
       "      <td>Uday</td>\n",
       "      <td>Karimulla</td>\n",
       "      <td>8008129519</td>\n",
       "    </tr>\n",
       "  </tbody>\n",
       "</table>\n",
       "</div>"
      ],
      "text/plain": [
       "            Name Father Name  Mobile Number\n",
       "Y20CS164     Ali     Shabber     9848711015\n",
       "Y20CS167  Shoheb   Karimulla     9347235528\n",
       "Y20CS162    Uday   Karimulla     8008129519"
      ]
     },
     "execution_count": 15,
     "metadata": {},
     "output_type": "execute_result"
    }
   ],
   "source": [
    "df['Name']=df['Name'].replace('Akram','Uday')\n",
    "df"
   ]
  },
  {
   "cell_type": "markdown",
   "id": "c91172b6",
   "metadata": {},
   "source": [
    "9.\tWrite a Pandas program to insert a new column “grade” in existing DataFrame"
   ]
  },
  {
   "cell_type": "code",
   "execution_count": 18,
   "id": "d5ae1375",
   "metadata": {},
   "outputs": [
    {
     "data": {
      "text/html": [
       "<div>\n",
       "<style scoped>\n",
       "    .dataframe tbody tr th:only-of-type {\n",
       "        vertical-align: middle;\n",
       "    }\n",
       "\n",
       "    .dataframe tbody tr th {\n",
       "        vertical-align: top;\n",
       "    }\n",
       "\n",
       "    .dataframe thead th {\n",
       "        text-align: right;\n",
       "    }\n",
       "</style>\n",
       "<table border=\"1\" class=\"dataframe\">\n",
       "  <thead>\n",
       "    <tr style=\"text-align: right;\">\n",
       "      <th></th>\n",
       "      <th>Name</th>\n",
       "      <th>Father Name</th>\n",
       "      <th>Mobile Number</th>\n",
       "      <th>Grade</th>\n",
       "    </tr>\n",
       "  </thead>\n",
       "  <tbody>\n",
       "    <tr>\n",
       "      <th>Y20CS164</th>\n",
       "      <td>Ali</td>\n",
       "      <td>Shabber</td>\n",
       "      <td>9848711015</td>\n",
       "      <td>8.5</td>\n",
       "    </tr>\n",
       "    <tr>\n",
       "      <th>Y20CS167</th>\n",
       "      <td>Shoheb</td>\n",
       "      <td>Karimulla</td>\n",
       "      <td>9347235528</td>\n",
       "      <td>8.7</td>\n",
       "    </tr>\n",
       "    <tr>\n",
       "      <th>Y20CS162</th>\n",
       "      <td>Akram</td>\n",
       "      <td>Karimulla</td>\n",
       "      <td>8008129519</td>\n",
       "      <td>9.2</td>\n",
       "    </tr>\n",
       "  </tbody>\n",
       "</table>\n",
       "</div>"
      ],
      "text/plain": [
       "            Name Father Name  Mobile Number  Grade\n",
       "Y20CS164     Ali     Shabber     9848711015    8.5\n",
       "Y20CS167  Shoheb   Karimulla     9347235528    8.7\n",
       "Y20CS162   Akram   Karimulla     8008129519    9.2"
      ]
     },
     "execution_count": 18,
     "metadata": {},
     "output_type": "execute_result"
    }
   ],
   "source": [
    "df['Grade']=[8.5,8.7,9.2]\n",
    "df"
   ]
  },
  {
   "cell_type": "markdown",
   "id": "d4b158f6",
   "metadata": {},
   "source": [
    ".  Write a pandas program to create and display a dataframe from a specified dictionary data which has the index labels."
   ]
  },
  {
   "cell_type": "code",
   "execution_count": 19,
   "id": "a2995ec7",
   "metadata": {},
   "outputs": [
    {
     "data": {
      "text/html": [
       "<div>\n",
       "<style scoped>\n",
       "    .dataframe tbody tr th:only-of-type {\n",
       "        vertical-align: middle;\n",
       "    }\n",
       "\n",
       "    .dataframe tbody tr th {\n",
       "        vertical-align: top;\n",
       "    }\n",
       "\n",
       "    .dataframe thead th {\n",
       "        text-align: right;\n",
       "    }\n",
       "</style>\n",
       "<table border=\"1\" class=\"dataframe\">\n",
       "  <thead>\n",
       "    <tr style=\"text-align: right;\">\n",
       "      <th></th>\n",
       "      <th>Name</th>\n",
       "      <th>Father Name</th>\n",
       "      <th>Mobile Number</th>\n",
       "    </tr>\n",
       "  </thead>\n",
       "  <tbody>\n",
       "    <tr>\n",
       "      <th>Y20CS164</th>\n",
       "      <td>Ali</td>\n",
       "      <td>Shabber</td>\n",
       "      <td>9848711015</td>\n",
       "    </tr>\n",
       "    <tr>\n",
       "      <th>Y20CS167</th>\n",
       "      <td>Shoheb</td>\n",
       "      <td>Karimulla</td>\n",
       "      <td>9347235528</td>\n",
       "    </tr>\n",
       "    <tr>\n",
       "      <th>Y20CS162</th>\n",
       "      <td>Akram</td>\n",
       "      <td>Karimulla</td>\n",
       "      <td>8008129519</td>\n",
       "    </tr>\n",
       "  </tbody>\n",
       "</table>\n",
       "</div>"
      ],
      "text/plain": [
       "            Name Father Name  Mobile Number\n",
       "Y20CS164     Ali     Shabber     9848711015\n",
       "Y20CS167  Shoheb   Karimulla     9347235528\n",
       "Y20CS162   Akram   Karimulla     8008129519"
      ]
     },
     "execution_count": 19,
     "metadata": {},
     "output_type": "execute_result"
    }
   ],
   "source": [
    "data={'Name':['Ali','Shoheb','Akram'],\n",
    "     'Father Name':['Shabber','Karimulla','Karimulla'],\n",
    "     'Mobile Number':[9848711015,9347235528,8008129519]}\n",
    "label=[\"Y20CS164\",'Y20CS167','Y20CS162']\n",
    "df=pd.DataFrame(data,index=label)\n",
    "df"
   ]
  }
 ],
 "metadata": {
  "kernelspec": {
   "display_name": "Python 3 (ipykernel)",
   "language": "python",
   "name": "python3"
  },
  "language_info": {
   "codemirror_mode": {
    "name": "ipython",
    "version": 3
   },
   "file_extension": ".py",
   "mimetype": "text/x-python",
   "name": "python",
   "nbconvert_exporter": "python",
   "pygments_lexer": "ipython3",
   "version": "3.9.7"
  }
 },
 "nbformat": 4,
 "nbformat_minor": 5
}
