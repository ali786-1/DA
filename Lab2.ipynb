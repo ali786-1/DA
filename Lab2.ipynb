{
 "cells": [
  {
   "cell_type": "code",
   "execution_count": 2,
   "id": "a8ae1e8f",
   "metadata": {},
   "outputs": [],
   "source": [
    "import numpy as np\n",
    "import pandas as pd"
   ]
  },
  {
   "cell_type": "code",
   "execution_count": 9,
   "id": "3729730b",
   "metadata": {},
   "outputs": [
    {
     "name": "stdout",
     "output_type": "stream",
     "text": [
      "     fixed acidity;\"volatile acidity\";\"citric acid\";\"residual sugar\";\"chlorides\";\"free sulfur dioxide\";\"total sulfur dioxide\";\"density\";\"pH\";\"sulphates\";\"alcohol\";\"quality\"\n",
      "0      7.4;0.7;0;1.9;0.076;11;34;0.9978;3.51;0.56;9.4;5                                                                                                                     \n",
      "1      7.8;0.88;0;2.6;0.098;25;67;0.9968;3.2;0.68;9.8;5                                                                                                                     \n",
      "2     7.8;0.76;0.04;2.3;0.092;15;54;0.997;3.26;0.65;...                                                                                                                     \n",
      "3     11.2;0.28;0.56;1.9;0.075;17;60;0.998;3.16;0.58...                                                                                                                     \n",
      "4      7.4;0.7;0;1.9;0.076;11;34;0.9978;3.51;0.56;9.4;5                                                                                                                     \n",
      "...                                                 ...                                                                                                                     \n",
      "1594  6.2;0.6;0.08;2;0.09;32;44;0.9949;3.45;0.58;10.5;5                                                                                                                     \n",
      "1595  5.9;0.55;0.1;2.2;0.062;39;51;0.99512;3.52;0.76...                                                                                                                     \n",
      "1596  6.3;0.51;0.13;2.3;0.076;29;40;0.99574;3.42;0.7...                                                                                                                     \n",
      "1597  5.9;0.645;0.12;2;0.075;32;44;0.99547;3.57;0.71...                                                                                                                     \n",
      "1598  6;0.31;0.47;3.6;0.067;18;42;0.99549;3.39;0.66;...                                                                                                                     \n",
      "\n",
      "[1599 rows x 1 columns]\n",
      "[[ 7.4    0.7    0.    ...  0.56   9.4    5.   ]\n",
      " [ 7.8    0.88   0.    ...  0.68   9.8    5.   ]\n",
      " [ 7.8    0.76   0.04  ...  0.65   9.8    5.   ]\n",
      " ...\n",
      " [ 6.3    0.51   0.13  ...  0.75  11.     6.   ]\n",
      " [ 5.9    0.645  0.12  ...  0.71  10.2    5.   ]\n",
      " [ 6.     0.31   0.47  ...  0.66  11.     6.   ]]\n"
     ]
    }
   ],
   "source": [
    "d=pd.read_csv('C:\\\\Users\\\\exam2\\\\Desktop\\\\winequality-red.csv')\n",
    "print(d)\n",
    "wines=np.genfromtxt('C:\\\\Users\\\\exam2\\\\Desktop\\\\winequality-red.csv',delimiter=';',skip_header=1)\n",
    "print(wines)"
   ]
  },
  {
   "cell_type": "markdown",
   "id": "35454e34",
   "metadata": {},
   "source": [
    "2.\tConvert it to numPy array, name it as wines (leave the first row of the list) and specify the data type of array as float."
   ]
  },
  {
   "cell_type": "code",
   "execution_count": 76,
   "id": "fc33ae7e",
   "metadata": {},
   "outputs": [
    {
     "name": "stdout",
     "output_type": "stream",
     "text": [
      "[[ 7.4    0.7    0.    ...  0.56   9.4    5.   ]\n",
      " [ 7.8    0.88   0.    ...  0.68   9.8    5.   ]\n",
      " [ 7.8    0.76   0.04  ...  0.65   9.8    5.   ]\n",
      " ...\n",
      " [ 6.3    0.51   0.13  ...  0.75  11.     6.   ]\n",
      " [ 5.9    0.645  0.12  ...  0.71  10.2    5.   ]\n",
      " [ 6.     0.31   0.47  ...  0.66  11.     6.   ]]\n"
     ]
    }
   ],
   "source": [
    "wines=np.genfromtxt('C:\\\\Users\\\\exam2\\\\Desktop\\\\winequality-red.csv',delimiter=';',skip_header=1,dtype=np.float64)\n",
    "print(wines)"
   ]
  },
  {
   "cell_type": "markdown",
   "id": "14f703da",
   "metadata": {},
   "source": [
    "3.\tIdentify the shape of the array."
   ]
  },
  {
   "cell_type": "code",
   "execution_count": 15,
   "id": "518162b8",
   "metadata": {},
   "outputs": [
    {
     "name": "stdout",
     "output_type": "stream",
     "text": [
      "(1599, 12)\n"
     ]
    }
   ],
   "source": [
    "print(wines.shape)"
   ]
  },
  {
   "cell_type": "markdown",
   "id": "3a37155a",
   "metadata": {},
   "source": [
    "4.\tDisplay the element at row 3 and column 4."
   ]
  },
  {
   "cell_type": "code",
   "execution_count": 19,
   "id": "ad914413",
   "metadata": {},
   "outputs": [
    {
     "name": "stdout",
     "output_type": "stream",
     "text": [
      "2.3\n"
     ]
    }
   ],
   "source": [
    "print(wines[2][3])"
   ]
  },
  {
   "cell_type": "markdown",
   "id": "35108d8a",
   "metadata": {},
   "source": [
    "5.Display the first three items from the fourth column."
   ]
  },
  {
   "cell_type": "code",
   "execution_count": 24,
   "id": "7818c4fb",
   "metadata": {},
   "outputs": [
    {
     "name": "stdout",
     "output_type": "stream",
     "text": [
      "[1.9 2.6 2.3]\n"
     ]
    }
   ],
   "source": [
    "print(wines[0:3,3])"
   ]
  },
  {
   "cell_type": "markdown",
   "id": "d4a0bf56",
   "metadata": {},
   "source": [
    "6.\tDisplay third column from each row\n"
   ]
  },
  {
   "cell_type": "code",
   "execution_count": 26,
   "id": "33f936c7",
   "metadata": {},
   "outputs": [
    {
     "name": "stdout",
     "output_type": "stream",
     "text": [
      "[0.   0.   0.04 ... 0.13 0.12 0.47]\n"
     ]
    }
   ],
   "source": [
    "print(wines[:,2])"
   ]
  },
  {
   "cell_type": "markdown",
   "id": "8dff31d2",
   "metadata": {},
   "source": [
    "7.\tDisplay fourth row."
   ]
  },
  {
   "cell_type": "code",
   "execution_count": 28,
   "id": "93d2348e",
   "metadata": {},
   "outputs": [
    {
     "name": "stdout",
     "output_type": "stream",
     "text": [
      "[11.2    0.28   0.56   1.9    0.075 17.    60.     0.998  3.16   0.58\n",
      "  9.8    6.   ]\n"
     ]
    }
   ],
   "source": [
    "print(wines[3])"
   ]
  },
  {
   "cell_type": "markdown",
   "id": "7bef286e",
   "metadata": {},
   "source": [
    "8.\tAssign value 10 to 2nd row and 6th column element."
   ]
  },
  {
   "cell_type": "code",
   "execution_count": 31,
   "id": "11d37170",
   "metadata": {},
   "outputs": [
    {
     "name": "stdout",
     "output_type": "stream",
     "text": [
      "10.0\n"
     ]
    }
   ],
   "source": [
    "wines[1][5]=10\n",
    "print(wines[1,5])"
   ]
  },
  {
   "cell_type": "markdown",
   "id": "3d2e4a2f",
   "metadata": {},
   "source": [
    "9.\tTake the 10th column from wines array and name that slice as slice_new and assign value 666 to all elements of slice_new."
   ]
  },
  {
   "cell_type": "code",
   "execution_count": 44,
   "id": "44bf708a",
   "metadata": {},
   "outputs": [
    {
     "name": "stdout",
     "output_type": "stream",
     "text": [
      "[0.56 0.68 0.65 ... 0.75 0.71 0.66]\n",
      "[666. 666. 666. ... 666. 666. 666.]\n"
     ]
    }
   ],
   "source": [
    "slice_new=wines[:,9]\n",
    "print(slice_new)\n",
    "slice_new[:]=666\n",
    "print(slice_new)"
   ]
  },
  {
   "cell_type": "markdown",
   "id": "db82011e",
   "metadata": {},
   "source": [
    "10.\tDisplay wines array."
   ]
  },
  {
   "cell_type": "code",
   "execution_count": 36,
   "id": "e6ad6b47",
   "metadata": {},
   "outputs": [
    {
     "name": "stdout",
     "output_type": "stream",
     "text": [
      "[[ 7.4    0.7    0.    ...  0.56   9.4    5.   ]\n",
      " [ 7.8    0.88   0.    ...  0.68   9.8    5.   ]\n",
      " [ 7.8    0.76   0.04  ...  0.65   9.8    5.   ]\n",
      " ...\n",
      " [ 6.3    0.51   0.13  ...  0.75  11.     6.   ]\n",
      " [ 5.9    0.645  0.12  ...  0.71  10.2    5.   ]\n",
      " [ 6.     0.31   0.47  ...  0.66  11.     6.   ]]\n"
     ]
    }
   ],
   "source": [
    "print(wines)"
   ]
  },
  {
   "cell_type": "markdown",
   "id": "55be2d1d",
   "metadata": {},
   "source": [
    "11.\tFind the data type of wines array and Change the data type to int."
   ]
  },
  {
   "cell_type": "code",
   "execution_count": 61,
   "id": "cf5af771",
   "metadata": {},
   "outputs": [
    {
     "name": "stdout",
     "output_type": "stream",
     "text": [
      "int64\n",
      "[[  7   0   0 ... 666   9  85]\n",
      " [  7   0   0 ... 666   9  85]\n",
      " [  7   0   0 ... 666   9  85]\n",
      " ...\n",
      " [  6   0   0 ... 666  11  86]\n",
      " [  5   0   0 ... 666  10  85]\n",
      " [  6   0   0 ... 666  11  86]]\n"
     ]
    }
   ],
   "source": [
    "print(wines.dtype)\n",
    "wines=np.array(wines,dtype='int64')\n",
    "print(wines)"
   ]
  },
  {
   "cell_type": "markdown",
   "id": "6936b704",
   "metadata": {},
   "source": [
    "12.\tAdd 10 points to each quality score."
   ]
  },
  {
   "cell_type": "code",
   "execution_count": 64,
   "id": "20965664",
   "metadata": {},
   "outputs": [
    {
     "name": "stdout",
     "output_type": "stream",
     "text": [
      "[5. 5. 5. ... 6. 5. 6.]\n",
      "[15. 15. 15. ... 16. 15. 16.]\n"
     ]
    }
   ],
   "source": [
    "print(wines[:,-1])\n",
    "wines[:,-1]=wines[:,-1]+10\n",
    "print(wines[:,-1])"
   ]
  },
  {
   "cell_type": "markdown",
   "id": "19fe35d4",
   "metadata": {},
   "source": [
    "13.\tFind the sum of all the elements in an array"
   ]
  },
  {
   "cell_type": "code",
   "execution_count": 65,
   "id": "8bfb607c",
   "metadata": {},
   "outputs": [
    {
     "name": "stdout",
     "output_type": "stream",
     "text": [
      "168074.78194\n"
     ]
    }
   ],
   "source": [
    "print(np.sum(wines))"
   ]
  },
  {
   "cell_type": "markdown",
   "id": "8411ba7f",
   "metadata": {},
   "source": [
    "14.\tFind the sum of all the values in every column."
   ]
  },
  {
   "cell_type": "code",
   "execution_count": 66,
   "id": "cac8fa2f",
   "metadata": {},
   "outputs": [
    {
     "name": "stdout",
     "output_type": "stream",
     "text": [
      "[13303.1       843.985     433.29     4059.55      139.859   25384.\n",
      " 74302.       1593.79794  5294.47     1052.38    16666.35    25002.     ]\n"
     ]
    }
   ],
   "source": [
    "print(np.sum(wines,axis=0))\n",
    "# s=np.array([[1,2,3],[1,2,3]])\n",
    "# print(np.sum(s,axis=0))"
   ]
  },
  {
   "cell_type": "markdown",
   "id": "ca53af38",
   "metadata": {},
   "source": [
    "15.\tFind the sum of all the values in every row."
   ]
  },
  {
   "cell_type": "code",
   "execution_count": 67,
   "id": "3e0fedef",
   "metadata": {},
   "outputs": [
    {
     "name": "stdout",
     "output_type": "stream",
     "text": [
      "[ 84.5438  133.0548  109.699   ... 110.48174 115.21547 102.49249]\n"
     ]
    }
   ],
   "source": [
    "print(np.sum(wines,axis=1))"
   ]
  },
  {
   "cell_type": "markdown",
   "id": "8040b041",
   "metadata": {},
   "source": [
    "16.\tAdd the quality column to itself."
   ]
  },
  {
   "cell_type": "code",
   "execution_count": 72,
   "id": "a6f65464",
   "metadata": {},
   "outputs": [
    {
     "name": "stdout",
     "output_type": "stream",
     "text": [
      "[20. 20. 20. ... 24. 20. 24.]\n"
     ]
    }
   ],
   "source": [
    "wines[:,-1]=wines[:,-1]*2\n",
    "print(wines[:,-1])"
   ]
  },
  {
   "cell_type": "markdown",
   "id": "4b811973",
   "metadata": {},
   "source": [
    "17.\tMultiply alcohol by quality."
   ]
  },
  {
   "cell_type": "code",
   "execution_count": 79,
   "id": "75e9ffa4",
   "metadata": {},
   "outputs": [
    {
     "name": "stdout",
     "output_type": "stream",
     "text": [
      "[47. 49. 49. ... 66. 51. 66.]\n"
     ]
    }
   ],
   "source": [
    "print(wines[:,-1]*wines[:,-2])"
   ]
  },
  {
   "cell_type": "markdown",
   "id": "d5be6dfa",
   "metadata": {},
   "source": [
    "18.\tDisplay which wines have a quality rating higher than 5."
   ]
  },
  {
   "cell_type": "code",
   "execution_count": 81,
   "id": "544ed289",
   "metadata": {},
   "outputs": [
    {
     "name": "stdout",
     "output_type": "stream",
     "text": [
      "[[11.2   0.28  0.56 ...  0.58  9.8   6.  ]\n",
      " [ 7.3   0.65  0.   ...  0.47 10.    7.  ]\n",
      " [ 7.8   0.58  0.02 ...  0.57  9.5   7.  ]\n",
      " ...\n",
      " [ 5.9   0.55  0.1  ...  0.76 11.2   6.  ]\n",
      " [ 6.3   0.51  0.13 ...  0.75 11.    6.  ]\n",
      " [ 6.    0.31  0.47 ...  0.66 11.    6.  ]]\n"
     ]
    }
   ],
   "source": [
    "print(wines[wines[:,-1]>5])"
   ]
  },
  {
   "cell_type": "markdown",
   "id": "623a300a",
   "metadata": {},
   "source": [
    "19.\tCheck if any wines have a quality rating equal to 10."
   ]
  },
  {
   "cell_type": "code",
   "execution_count": 86,
   "id": "dc871d3a",
   "metadata": {},
   "outputs": [
    {
     "name": "stdout",
     "output_type": "stream",
     "text": [
      "[]\n"
     ]
    }
   ],
   "source": [
    "print(wines[wines[:,-1]==10])"
   ]
  },
  {
   "cell_type": "markdown",
   "id": "03cd8bea",
   "metadata": {},
   "source": [
    "20.\tSelect rows in wines where the quality is over 7"
   ]
  },
  {
   "cell_type": "code",
   "execution_count": 88,
   "id": "43f578ab",
   "metadata": {},
   "outputs": [
    {
     "name": "stdout",
     "output_type": "stream",
     "text": [
      "[[7.9000e+00 3.5000e-01 4.6000e-01 3.6000e+00 7.8000e-02 1.5000e+01\n",
      "  3.7000e+01 9.9730e-01 3.3500e+00 8.6000e-01 1.2800e+01 8.0000e+00]\n",
      " [1.0300e+01 3.2000e-01 4.5000e-01 6.4000e+00 7.3000e-02 5.0000e+00\n",
      "  1.3000e+01 9.9760e-01 3.2300e+00 8.2000e-01 1.2600e+01 8.0000e+00]\n",
      " [5.6000e+00 8.5000e-01 5.0000e-02 1.4000e+00 4.5000e-02 1.2000e+01\n",
      "  8.8000e+01 9.9240e-01 3.5600e+00 8.2000e-01 1.2900e+01 8.0000e+00]\n",
      " [1.2600e+01 3.1000e-01 7.2000e-01 2.2000e+00 7.2000e-02 6.0000e+00\n",
      "  2.9000e+01 9.9870e-01 2.8800e+00 8.2000e-01 9.8000e+00 8.0000e+00]\n",
      " [1.1300e+01 6.2000e-01 6.7000e-01 5.2000e+00 8.6000e-02 6.0000e+00\n",
      "  1.9000e+01 9.9880e-01 3.2200e+00 6.9000e-01 1.3400e+01 8.0000e+00]\n",
      " [9.4000e+00 3.0000e-01 5.6000e-01 2.8000e+00 8.0000e-02 6.0000e+00\n",
      "  1.7000e+01 9.9640e-01 3.1500e+00 9.2000e-01 1.1700e+01 8.0000e+00]\n",
      " [1.0700e+01 3.5000e-01 5.3000e-01 2.6000e+00 7.0000e-02 5.0000e+00\n",
      "  1.6000e+01 9.9720e-01 3.1500e+00 6.5000e-01 1.1000e+01 8.0000e+00]\n",
      " [1.0700e+01 3.5000e-01 5.3000e-01 2.6000e+00 7.0000e-02 5.0000e+00\n",
      "  1.6000e+01 9.9720e-01 3.1500e+00 6.5000e-01 1.1000e+01 8.0000e+00]\n",
      " [5.0000e+00 4.2000e-01 2.4000e-01 2.0000e+00 6.0000e-02 1.9000e+01\n",
      "  5.0000e+01 9.9170e-01 3.7200e+00 7.4000e-01 1.4000e+01 8.0000e+00]\n",
      " [7.8000e+00 5.7000e-01 9.0000e-02 2.3000e+00 6.5000e-02 3.4000e+01\n",
      "  4.5000e+01 9.9417e-01 3.4600e+00 7.4000e-01 1.2700e+01 8.0000e+00]\n",
      " [9.1000e+00 4.0000e-01 5.0000e-01 1.8000e+00 7.1000e-02 7.0000e+00\n",
      "  1.6000e+01 9.9462e-01 3.2100e+00 6.9000e-01 1.2500e+01 8.0000e+00]\n",
      " [1.0000e+01 2.6000e-01 5.4000e-01 1.9000e+00 8.3000e-02 4.2000e+01\n",
      "  7.4000e+01 9.9451e-01 2.9800e+00 6.3000e-01 1.1800e+01 8.0000e+00]\n",
      " [7.9000e+00 5.4000e-01 3.4000e-01 2.5000e+00 7.6000e-02 8.0000e+00\n",
      "  1.7000e+01 9.9235e-01 3.2000e+00 7.2000e-01 1.3100e+01 8.0000e+00]\n",
      " [8.6000e+00 4.2000e-01 3.9000e-01 1.8000e+00 6.8000e-02 6.0000e+00\n",
      "  1.2000e+01 9.9516e-01 3.3500e+00 6.9000e-01 1.1700e+01 8.0000e+00]\n",
      " [5.5000e+00 4.9000e-01 3.0000e-02 1.8000e+00 4.4000e-02 2.8000e+01\n",
      "  8.7000e+01 9.9080e-01 3.5000e+00 8.2000e-01 1.4000e+01 8.0000e+00]\n",
      " [7.2000e+00 3.3000e-01 3.3000e-01 1.7000e+00 6.1000e-02 3.0000e+00\n",
      "  1.3000e+01 9.9600e-01 3.2300e+00 1.1000e+00 1.0000e+01 8.0000e+00]\n",
      " [7.2000e+00 3.8000e-01 3.1000e-01 2.0000e+00 5.6000e-02 1.5000e+01\n",
      "  2.9000e+01 9.9472e-01 3.2300e+00 7.6000e-01 1.1300e+01 8.0000e+00]\n",
      " [7.4000e+00 3.6000e-01 3.0000e-01 1.8000e+00 7.4000e-02 1.7000e+01\n",
      "  2.4000e+01 9.9419e-01 3.2400e+00 7.0000e-01 1.1400e+01 8.0000e+00]]\n"
     ]
    }
   ],
   "source": [
    "print(wines[wines[:,-1]>7])"
   ]
  },
  {
   "cell_type": "markdown",
   "id": "00d16e68",
   "metadata": {},
   "source": [
    "21.\tDisplay wines with alcohol greater than 10 and quality greater than 7."
   ]
  },
  {
   "cell_type": "code",
   "execution_count": 98,
   "id": "378931f0",
   "metadata": {},
   "outputs": [
    {
     "name": "stdout",
     "output_type": "stream",
     "text": [
      "[[7.9000e+00 3.5000e-01 4.6000e-01 3.6000e+00 7.8000e-02 1.5000e+01\n",
      "  3.7000e+01 9.9730e-01 3.3500e+00 8.6000e-01 1.2800e+01 8.0000e+00]\n",
      " [1.0300e+01 3.2000e-01 4.5000e-01 6.4000e+00 7.3000e-02 5.0000e+00\n",
      "  1.3000e+01 9.9760e-01 3.2300e+00 8.2000e-01 1.2600e+01 8.0000e+00]\n",
      " [5.6000e+00 8.5000e-01 5.0000e-02 1.4000e+00 4.5000e-02 1.2000e+01\n",
      "  8.8000e+01 9.9240e-01 3.5600e+00 8.2000e-01 1.2900e+01 8.0000e+00]\n",
      " [1.1300e+01 6.2000e-01 6.7000e-01 5.2000e+00 8.6000e-02 6.0000e+00\n",
      "  1.9000e+01 9.9880e-01 3.2200e+00 6.9000e-01 1.3400e+01 8.0000e+00]\n",
      " [9.4000e+00 3.0000e-01 5.6000e-01 2.8000e+00 8.0000e-02 6.0000e+00\n",
      "  1.7000e+01 9.9640e-01 3.1500e+00 9.2000e-01 1.1700e+01 8.0000e+00]\n",
      " [1.0700e+01 3.5000e-01 5.3000e-01 2.6000e+00 7.0000e-02 5.0000e+00\n",
      "  1.6000e+01 9.9720e-01 3.1500e+00 6.5000e-01 1.1000e+01 8.0000e+00]\n",
      " [1.0700e+01 3.5000e-01 5.3000e-01 2.6000e+00 7.0000e-02 5.0000e+00\n",
      "  1.6000e+01 9.9720e-01 3.1500e+00 6.5000e-01 1.1000e+01 8.0000e+00]\n",
      " [5.0000e+00 4.2000e-01 2.4000e-01 2.0000e+00 6.0000e-02 1.9000e+01\n",
      "  5.0000e+01 9.9170e-01 3.7200e+00 7.4000e-01 1.4000e+01 8.0000e+00]\n",
      " [7.8000e+00 5.7000e-01 9.0000e-02 2.3000e+00 6.5000e-02 3.4000e+01\n",
      "  4.5000e+01 9.9417e-01 3.4600e+00 7.4000e-01 1.2700e+01 8.0000e+00]\n",
      " [9.1000e+00 4.0000e-01 5.0000e-01 1.8000e+00 7.1000e-02 7.0000e+00\n",
      "  1.6000e+01 9.9462e-01 3.2100e+00 6.9000e-01 1.2500e+01 8.0000e+00]\n",
      " [1.0000e+01 2.6000e-01 5.4000e-01 1.9000e+00 8.3000e-02 4.2000e+01\n",
      "  7.4000e+01 9.9451e-01 2.9800e+00 6.3000e-01 1.1800e+01 8.0000e+00]\n",
      " [7.9000e+00 5.4000e-01 3.4000e-01 2.5000e+00 7.6000e-02 8.0000e+00\n",
      "  1.7000e+01 9.9235e-01 3.2000e+00 7.2000e-01 1.3100e+01 8.0000e+00]\n",
      " [8.6000e+00 4.2000e-01 3.9000e-01 1.8000e+00 6.8000e-02 6.0000e+00\n",
      "  1.2000e+01 9.9516e-01 3.3500e+00 6.9000e-01 1.1700e+01 8.0000e+00]\n",
      " [5.5000e+00 4.9000e-01 3.0000e-02 1.8000e+00 4.4000e-02 2.8000e+01\n",
      "  8.7000e+01 9.9080e-01 3.5000e+00 8.2000e-01 1.4000e+01 8.0000e+00]\n",
      " [7.2000e+00 3.8000e-01 3.1000e-01 2.0000e+00 5.6000e-02 1.5000e+01\n",
      "  2.9000e+01 9.9472e-01 3.2300e+00 7.6000e-01 1.1300e+01 8.0000e+00]\n",
      " [7.4000e+00 3.6000e-01 3.0000e-01 1.8000e+00 7.4000e-02 1.7000e+01\n",
      "  2.4000e+01 9.9419e-01 3.2400e+00 7.0000e-01 1.1400e+01 8.0000e+00]]\n"
     ]
    }
   ],
   "source": [
    "s=(wines[:,-1]>7) & (wines[:,-2]>10)\n",
    "print(wines[s])"
   ]
  },
  {
   "cell_type": "markdown",
   "id": "84b0e700",
   "metadata": {},
   "source": [
    "22.\tChange the shape of wines array."
   ]
  },
  {
   "cell_type": "code",
   "execution_count": 109,
   "id": "7cd57662",
   "metadata": {},
   "outputs": [
    {
     "name": "stdout",
     "output_type": "stream",
     "text": [
      "(12, 1599)\n"
     ]
    }
   ],
   "source": [
    "# print(wines.shape)\n",
    "wines=np.array(wines.reshape((12,1599)))\n",
    "print(wines.shape)"
   ]
  }
 ],
 "metadata": {
  "kernelspec": {
   "display_name": "Python 3 (ipykernel)",
   "language": "python",
   "name": "python3"
  },
  "language_info": {
   "codemirror_mode": {
    "name": "ipython",
    "version": 3
   },
   "file_extension": ".py",
   "mimetype": "text/x-python",
   "name": "python",
   "nbconvert_exporter": "python",
   "pygments_lexer": "ipython3",
   "version": "3.9.7"
  }
 },
 "nbformat": 4,
 "nbformat_minor": 5
}
