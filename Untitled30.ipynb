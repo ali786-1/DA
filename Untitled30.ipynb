{
 "cells": [
  {
   "cell_type": "code",
   "execution_count": 2,
   "id": "23365de8",
   "metadata": {},
   "outputs": [],
   "source": [
    "import numpy as np\n",
    "import pandas as pd"
   ]
  },
  {
   "cell_type": "code",
   "execution_count": 9,
   "id": "5245a053",
   "metadata": {},
   "outputs": [
    {
     "name": "stdout",
     "output_type": "stream",
     "text": [
      "     fixed acidity;\"volatile acidity\";\"citric acid\";\"residual sugar\";\"chlorides\";\"free sulfur dioxide\";\"total sulfur dioxide\";\"density\";\"pH\";\"sulphates\";\"alcohol\";\"quality\"\n",
      "0      7.4;0.7;0;1.9;0.076;11;34;0.9978;3.51;0.56;9.4;5                                                                                                                     \n",
      "1      7.8;0.88;0;2.6;0.098;25;67;0.9968;3.2;0.68;9.8;5                                                                                                                     \n",
      "2     7.8;0.76;0.04;2.3;0.092;15;54;0.997;3.26;0.65;...                                                                                                                     \n",
      "3     11.2;0.28;0.56;1.9;0.075;17;60;0.998;3.16;0.58...                                                                                                                     \n",
      "4      7.4;0.7;0;1.9;0.076;11;34;0.9978;3.51;0.56;9.4;5                                                                                                                     \n",
      "...                                                 ...                                                                                                                     \n",
      "1594  6.2;0.6;0.08;2;0.09;32;44;0.9949;3.45;0.58;10.5;5                                                                                                                     \n",
      "1595  5.9;0.55;0.1;2.2;0.062;39;51;0.99512;3.52;0.76...                                                                                                                     \n",
      "1596  6.3;0.51;0.13;2.3;0.076;29;40;0.99574;3.42;0.7...                                                                                                                     \n",
      "1597  5.9;0.645;0.12;2;0.075;32;44;0.99547;3.57;0.71...                                                                                                                     \n",
      "1598  6;0.31;0.47;3.6;0.067;18;42;0.99549;3.39;0.66;...                                                                                                                     \n",
      "\n",
      "[1599 rows x 1 columns]\n",
      "[[ 7.4    0.7    0.    ...  0.56   9.4    5.   ]\n",
      " [ 7.8    0.88   0.    ...  0.68   9.8    5.   ]\n",
      " [ 7.8    0.76   0.04  ...  0.65   9.8    5.   ]\n",
      " ...\n",
      " [ 6.3    0.51   0.13  ...  0.75  11.     6.   ]\n",
      " [ 5.9    0.645  0.12  ...  0.71  10.2    5.   ]\n",
      " [ 6.     0.31   0.47  ...  0.66  11.     6.   ]]\n"
     ]
    }
   ],
   "source": [
    "d=pd.read_csv('C:\\\\Users\\\\exam2\\\\Desktop\\\\winequality-red.csv')\n",
    "print(d)\n",
    "wines=np.genfromtxt('C:\\\\Users\\\\exam2\\\\Desktop\\\\winequality-red.csv',delimiter=';',skip_header=1)\n",
    "print(wines)"
   ]
  },
  {
   "cell_type": "markdown",
   "id": "62b3f860",
   "metadata": {},
   "source": [
    "2.\tConvert it to numPy array, name it as wines (leave the first row of the list) and specify the data type of array as float."
   ]
  },
  {
   "cell_type": "code",
   "execution_count": 70,
   "id": "ed43acc0",
   "metadata": {},
   "outputs": [
    {
     "name": "stdout",
     "output_type": "stream",
     "text": [
      "[[ 7.4    0.7    0.    ...  0.56   9.4    5.   ]\n",
      " [ 7.8    0.88   0.    ...  0.68   9.8    5.   ]\n",
      " [ 7.8    0.76   0.04  ...  0.65   9.8    5.   ]\n",
      " ...\n",
      " [ 6.3    0.51   0.13  ...  0.75  11.     6.   ]\n",
      " [ 5.9    0.645  0.12  ...  0.71  10.2    5.   ]\n",
      " [ 6.     0.31   0.47  ...  0.66  11.     6.   ]]\n"
     ]
    }
   ],
   "source": [
    "wines=np.genfromtxt('C:\\\\Users\\\\exam2\\\\Desktop\\\\winequality-red.csv',delimiter=';',skip_header=1,dtype=np.float64)\n",
    "print(wines)"
   ]
  },
  {
   "cell_type": "markdown",
   "id": "1767665b",
   "metadata": {},
   "source": [
    "3.\tIdentify the shape of the array."
   ]
  },
  {
   "cell_type": "code",
   "execution_count": 15,
   "id": "9ad07260",
   "metadata": {},
   "outputs": [
    {
     "name": "stdout",
     "output_type": "stream",
     "text": [
      "(1599, 12)\n"
     ]
    }
   ],
   "source": [
    "print(wines.shape)"
   ]
  },
  {
   "cell_type": "markdown",
   "id": "558c7e11",
   "metadata": {},
   "source": [
    "4.\tDisplay the element at row 3 and column 4."
   ]
  },
  {
   "cell_type": "code",
   "execution_count": 19,
   "id": "9b10013a",
   "metadata": {},
   "outputs": [
    {
     "name": "stdout",
     "output_type": "stream",
     "text": [
      "2.3\n"
     ]
    }
   ],
   "source": [
    "print(wines[2][3])"
   ]
  },
  {
   "cell_type": "markdown",
   "id": "f3518150",
   "metadata": {},
   "source": [
    "5.Display the first three items from the fourth column."
   ]
  },
  {
   "cell_type": "code",
   "execution_count": 24,
   "id": "b6edb42d",
   "metadata": {},
   "outputs": [
    {
     "name": "stdout",
     "output_type": "stream",
     "text": [
      "[1.9 2.6 2.3]\n"
     ]
    }
   ],
   "source": [
    "print(wines[0:3,3])"
   ]
  },
  {
   "cell_type": "markdown",
   "id": "cb9e9efd",
   "metadata": {},
   "source": [
    "6.\tDisplay third column from each row\n"
   ]
  },
  {
   "cell_type": "code",
   "execution_count": 26,
   "id": "fc99d7e5",
   "metadata": {},
   "outputs": [
    {
     "name": "stdout",
     "output_type": "stream",
     "text": [
      "[0.   0.   0.04 ... 0.13 0.12 0.47]\n"
     ]
    }
   ],
   "source": [
    "print(wines[:,2])"
   ]
  },
  {
   "cell_type": "markdown",
   "id": "33448161",
   "metadata": {},
   "source": [
    "7.\tDisplay fourth row."
   ]
  },
  {
   "cell_type": "code",
   "execution_count": 28,
   "id": "a035957a",
   "metadata": {},
   "outputs": [
    {
     "name": "stdout",
     "output_type": "stream",
     "text": [
      "[11.2    0.28   0.56   1.9    0.075 17.    60.     0.998  3.16   0.58\n",
      "  9.8    6.   ]\n"
     ]
    }
   ],
   "source": [
    "print(wines[3])"
   ]
  },
  {
   "cell_type": "markdown",
   "id": "35ea9930",
   "metadata": {},
   "source": [
    "8.\tAssign value 10 to 2nd row and 6th column element."
   ]
  },
  {
   "cell_type": "code",
   "execution_count": 31,
   "id": "e8814a93",
   "metadata": {},
   "outputs": [
    {
     "name": "stdout",
     "output_type": "stream",
     "text": [
      "10.0\n"
     ]
    }
   ],
   "source": [
    "wines[1][5]=10\n",
    "print(wines[1,5])"
   ]
  },
  {
   "cell_type": "markdown",
   "id": "54566abc",
   "metadata": {},
   "source": [
    "9.\tTake the 10th column from wines array and name that slice as slice_new and assign value 666 to all elements of slice_new."
   ]
  },
  {
   "cell_type": "code",
   "execution_count": 44,
   "id": "9315cd11",
   "metadata": {},
   "outputs": [
    {
     "name": "stdout",
     "output_type": "stream",
     "text": [
      "[0.56 0.68 0.65 ... 0.75 0.71 0.66]\n",
      "[666. 666. 666. ... 666. 666. 666.]\n"
     ]
    }
   ],
   "source": [
    "slice_new=wines[:,9]\n",
    "print(slice_new)\n",
    "slice_new[:]=666\n",
    "print(slice_new)"
   ]
  },
  {
   "cell_type": "markdown",
   "id": "438aae6c",
   "metadata": {},
   "source": [
    "10.\tDisplay wines array."
   ]
  },
  {
   "cell_type": "code",
   "execution_count": 36,
   "id": "2f6f07f3",
   "metadata": {},
   "outputs": [
    {
     "name": "stdout",
     "output_type": "stream",
     "text": [
      "[[ 7.4    0.7    0.    ...  0.56   9.4    5.   ]\n",
      " [ 7.8    0.88   0.    ...  0.68   9.8    5.   ]\n",
      " [ 7.8    0.76   0.04  ...  0.65   9.8    5.   ]\n",
      " ...\n",
      " [ 6.3    0.51   0.13  ...  0.75  11.     6.   ]\n",
      " [ 5.9    0.645  0.12  ...  0.71  10.2    5.   ]\n",
      " [ 6.     0.31   0.47  ...  0.66  11.     6.   ]]\n"
     ]
    }
   ],
   "source": [
    "print(wines)"
   ]
  },
  {
   "cell_type": "markdown",
   "id": "52e39683",
   "metadata": {},
   "source": [
    "11.\tFind the data type of wines array and Change the data type to int."
   ]
  },
  {
   "cell_type": "code",
   "execution_count": 61,
   "id": "72f53bfc",
   "metadata": {},
   "outputs": [
    {
     "name": "stdout",
     "output_type": "stream",
     "text": [
      "int64\n",
      "[[  7   0   0 ... 666   9  85]\n",
      " [  7   0   0 ... 666   9  85]\n",
      " [  7   0   0 ... 666   9  85]\n",
      " ...\n",
      " [  6   0   0 ... 666  11  86]\n",
      " [  5   0   0 ... 666  10  85]\n",
      " [  6   0   0 ... 666  11  86]]\n"
     ]
    }
   ],
   "source": [
    "print(wines.dtype)\n",
    "wines=np.array(wines,dtype='int64')\n",
    "print(wines)"
   ]
  },
  {
   "cell_type": "markdown",
   "id": "5d7e59cd",
   "metadata": {},
   "source": [
    "12.\tAdd 10 points to each quality score."
   ]
  },
  {
   "cell_type": "code",
   "execution_count": 64,
   "id": "4b56d9a0",
   "metadata": {},
   "outputs": [
    {
     "name": "stdout",
     "output_type": "stream",
     "text": [
      "[5. 5. 5. ... 6. 5. 6.]\n",
      "[15. 15. 15. ... 16. 15. 16.]\n"
     ]
    }
   ],
   "source": [
    "print(wines[:,-1])\n",
    "wines[:,-1]=wines[:,-1]+10\n",
    "print(wines[:,-1])"
   ]
  },
  {
   "cell_type": "markdown",
   "id": "92bb0018",
   "metadata": {},
   "source": [
    "13.\tFind the sum of all the elements in an array"
   ]
  },
  {
   "cell_type": "code",
   "execution_count": 65,
   "id": "dbe839ff",
   "metadata": {},
   "outputs": [
    {
     "name": "stdout",
     "output_type": "stream",
     "text": [
      "168074.78194\n"
     ]
    }
   ],
   "source": [
    "print(np.sum(wines))"
   ]
  },
  {
   "cell_type": "markdown",
   "id": "8d1fef22",
   "metadata": {},
   "source": [
    "14.\tFind the sum of all the values in every column."
   ]
  },
  {
   "cell_type": "code",
   "execution_count": 66,
   "id": "0faa06b3",
   "metadata": {},
   "outputs": [
    {
     "name": "stdout",
     "output_type": "stream",
     "text": [
      "[13303.1       843.985     433.29     4059.55      139.859   25384.\n",
      " 74302.       1593.79794  5294.47     1052.38    16666.35    25002.     ]\n"
     ]
    }
   ],
   "source": [
    "print(np.sum(wines,axis=0))\n",
    "# s=np.array([[1,2,3],[1,2,3]])\n",
    "# print(np.sum(s,axis=0))"
   ]
  },
  {
   "cell_type": "markdown",
   "id": "dc44f7ff",
   "metadata": {},
   "source": [
    "15.\tFind the sum of all the values in every row."
   ]
  },
  {
   "cell_type": "code",
   "execution_count": 67,
   "id": "04a3c566",
   "metadata": {},
   "outputs": [
    {
     "name": "stdout",
     "output_type": "stream",
     "text": [
      "[ 84.5438  133.0548  109.699   ... 110.48174 115.21547 102.49249]\n"
     ]
    }
   ],
   "source": [
    "print(np.sum(wines,axis=1))"
   ]
  },
  {
   "cell_type": "markdown",
   "id": "b97eb102",
   "metadata": {},
   "source": [
    "16.\tAdd the quality column to itself."
   ]
  },
  {
   "cell_type": "code",
   "execution_count": 72,
   "id": "d41460e9",
   "metadata": {},
   "outputs": [
    {
     "name": "stdout",
     "output_type": "stream",
     "text": [
      "[20. 20. 20. ... 24. 20. 24.]\n"
     ]
    }
   ],
   "source": [
    "wines[:,-1]=wines[:,-1]*2\n",
    "print(wines[:,-1])"
   ]
  },
  {
   "cell_type": "markdown",
   "id": "a8b47bf5",
   "metadata": {},
   "source": [
    "17.\tMultiply alcohol by quality."
   ]
  },
  {
   "cell_type": "code",
   "execution_count": null,
   "id": "827574ae",
   "metadata": {},
   "outputs": [],
   "source": [
    "wines[]"
   ]
  }
 ],
 "metadata": {
  "kernelspec": {
   "display_name": "Python 3 (ipykernel)",
   "language": "python",
   "name": "python3"
  },
  "language_info": {
   "codemirror_mode": {
    "name": "ipython",
    "version": 3
   },
   "file_extension": ".py",
   "mimetype": "text/x-python",
   "name": "python",
   "nbconvert_exporter": "python",
   "pygments_lexer": "ipython3",
   "version": "3.9.7"
  }
 },
 "nbformat": 4,
 "nbformat_minor": 5
}
