{
 "cells": [
  {
   "cell_type": "code",
   "execution_count": 1,
   "id": "f1b1a358",
   "metadata": {},
   "outputs": [],
   "source": [
    "import numpy as np\n",
    "import pandas as pd"
   ]
  },
  {
   "cell_type": "markdown",
   "id": "9e16a118",
   "metadata": {},
   "source": [
    ". Using Numpy, write a basic array of operations on single array to add x to each element of array and subtract y from each element of array. "
   ]
  },
  {
   "cell_type": "code",
   "execution_count": 3,
   "id": "d3810a88",
   "metadata": {},
   "outputs": [
    {
     "name": "stdout",
     "output_type": "stream",
     "text": [
      "[6 7 8 9]\n",
      "[-2 -1  0  1]\n"
     ]
    }
   ],
   "source": [
    "s=np.array([1,2,3,4])\n",
    "print(s+5)\n",
    "print(s-3)"
   ]
  },
  {
   "cell_type": "markdown",
   "id": "cf7498f4",
   "metadata": {},
   "source": [
    ". Using Numpy, write a program to add, subtract and multiply two matrices. "
   ]
  },
  {
   "cell_type": "code",
   "execution_count": 5,
   "id": "b0500519",
   "metadata": {},
   "outputs": [
    {
     "name": "stdout",
     "output_type": "stream",
     "text": [
      "[[11 13 15 17]\n",
      " [19 21 23 25]]\n",
      "[[-9 -9 -9 -9]\n",
      " [-9 -9 -9 -9]]\n",
      "[[ 10  22  36  52]\n",
      " [ 70  90 112 136]]\n"
     ]
    }
   ],
   "source": [
    "s=np.array([[1,2,3,4],[5,6,7,8]])\n",
    "p=np.array([[10,11,12,13],[14,15,16,17]])\n",
    "print(s+p)\n",
    "print(s-p)\n",
    "print(s*p)"
   ]
  },
  {
   "cell_type": "markdown",
   "id": "1dfaf4a5",
   "metadata": {},
   "source": [
    "i)\tCreate multi-dimensional arrays and find its shape and dimension "
   ]
  },
  {
   "cell_type": "code",
   "execution_count": 10,
   "id": "8fc18a64",
   "metadata": {},
   "outputs": [
    {
     "name": "stdout",
     "output_type": "stream",
     "text": [
      "(2, 2, 3)\n",
      "3\n"
     ]
    }
   ],
   "source": [
    "s=np.array([[[1,2,3],[1,2,3]],[[2,3,4],[2,3,4]]])\n",
    "print(s.shape)\n",
    "print(s.ndim)"
   ]
  },
  {
   "cell_type": "markdown",
   "id": "a64ad73b",
   "metadata": {},
   "source": [
    "ii)\tCreate a matrix full of zeros and ones "
   ]
  },
  {
   "cell_type": "code",
   "execution_count": 17,
   "id": "1c6211da",
   "metadata": {},
   "outputs": [
    {
     "name": "stdout",
     "output_type": "stream",
     "text": [
      "[[0. 0. 0.]\n",
      " [0. 0. 0.]\n",
      " [0. 0. 0.]]\n",
      "[[1. 1. 1. 1.]\n",
      " [1. 1. 1. 1.]]\n"
     ]
    }
   ],
   "source": [
    "k=np.zeros([3,3])\n",
    "print(k)\n",
    "l=np.ones([2,4])\n",
    "print(l)"
   ]
  },
  {
   "cell_type": "markdown",
   "id": "7df96187",
   "metadata": {},
   "source": [
    "iii)\tReshape and flatten data in the array "
   ]
  },
  {
   "cell_type": "code",
   "execution_count": 23,
   "id": "5483b6f6",
   "metadata": {},
   "outputs": [
    {
     "name": "stdout",
     "output_type": "stream",
     "text": [
      "[[0 1 2]\n",
      " [3 4 5]]\n",
      "[0 1 2 3 4 5]\n"
     ]
    }
   ],
   "source": [
    "s=np.arange(6).reshape(2,3)\n",
    "print(s)\n",
    "# a=np.array([2,3,4])\n",
    "print(s.flatten())"
   ]
  },
  {
   "cell_type": "markdown",
   "id": "62ee8c63",
   "metadata": {},
   "source": [
    "iv)\tAppend data vertically and horizontally "
   ]
  },
  {
   "cell_type": "code",
   "execution_count": 36,
   "id": "7a382fda",
   "metadata": {},
   "outputs": [
    {
     "name": "stdout",
     "output_type": "stream",
     "text": [
      "[[0 9 8]\n",
      " [1 2 3]]\n",
      "[0 9 8 4 5 6]\n"
     ]
    }
   ],
   "source": [
    "s=np.array([0,9,8])\n",
    "row=np.array([1,2,3])\n",
    "col=np.array([4,5,6])\n",
    "print(np.vstack((s,row)))\n",
    "print(np.hstack((s,col)))"
   ]
  },
  {
   "cell_type": "markdown",
   "id": "bb745cd1",
   "metadata": {},
   "source": [
    "v)\tApply indexing and slicing on array "
   ]
  },
  {
   "cell_type": "code",
   "execution_count": 44,
   "id": "df9de4b3",
   "metadata": {},
   "outputs": [
    {
     "name": "stdout",
     "output_type": "stream",
     "text": [
      "3\n",
      "[[2 3]\n",
      " [5 6]]\n"
     ]
    }
   ],
   "source": [
    "s=np.array([[1,2,3],[4,5,6]])\n",
    "print(s[0][2])\n",
    "print(s[:,[1,2]])"
   ]
  },
  {
   "cell_type": "markdown",
   "id": "865f2b3f",
   "metadata": {},
   "source": [
    "vi)\tUse statistical functions on array - Min, Max, Mean, Median and Standard Deviation "
   ]
  },
  {
   "cell_type": "code",
   "execution_count": 54,
   "id": "52f61473",
   "metadata": {},
   "outputs": [
    {
     "name": "stdout",
     "output_type": "stream",
     "text": [
      "1\n",
      "6\n",
      "3.5\n",
      "1.707825127659933\n",
      "3.5\n"
     ]
    }
   ],
   "source": [
    "print(s.min())\n",
    "print(s.max())\n",
    "print(s.mean())\n",
    "print(s.std())\n",
    "print(np.median(s))"
   ]
  },
  {
   "cell_type": "markdown",
   "id": "16acab1a",
   "metadata": {},
   "source": [
    "vii)\tDot and matrix product of two arrays "
   ]
  },
  {
   "cell_type": "code",
   "execution_count": 61,
   "id": "c6041041",
   "metadata": {},
   "outputs": [
    {
     "name": "stdout",
     "output_type": "stream",
     "text": [
      "[[14 32]\n",
      " [32 77]]\n",
      "[[ 1  4  9]\n",
      " [16 25 36]]\n"
     ]
    }
   ],
   "source": [
    "print(np.dot(s,s.T))\n",
    "print(s*s)"
   ]
  },
  {
   "cell_type": "markdown",
   "id": "d7180c88",
   "metadata": {},
   "source": [
    "viii)\tCompute the Eigen values of a matrix "
   ]
  },
  {
   "cell_type": "code",
   "execution_count": 72,
   "id": "cdfbaebd",
   "metadata": {},
   "outputs": [
    {
     "name": "stdout",
     "output_type": "stream",
     "text": [
      "[-0.23606798  4.23606798]\n"
     ]
    }
   ],
   "source": [
    "s=np.array([[1,2],[2,3]])\n",
    "e,evec=np.linalg.eig(s)\n",
    "print(e)"
   ]
  },
  {
   "cell_type": "markdown",
   "id": "6e5aa89b",
   "metadata": {},
   "source": [
    "ix)\tSolve a linear matrix equation such as 3 * x0 + x1 = 9, x0 + 2 * x1 = 8 "
   ]
  },
  {
   "cell_type": "code",
   "execution_count": 80,
   "id": "4e64c5ee",
   "metadata": {},
   "outputs": [
    {
     "name": "stdout",
     "output_type": "stream",
     "text": [
      " the value of x0 is \n",
      "2.0\n",
      " and the value of x1 is\n",
      " 2.9999999999999996\n"
     ]
    }
   ],
   "source": [
    "D=np.linalg.det([[3,1],[1,2]])\n",
    "d1=np.linalg.det([[9,8],[1,2]])                                                                                                                                                                                                                              \n",
    "d2=np.linalg.det([[3,1],[9,8]])\n",
    "print(f' the value of x0 is \\n{d1/D}\\n and the value of x1 is\\n {d2/D}')"
   ]
  },
  {
   "cell_type": "markdown",
   "id": "e210e7b1",
   "metadata": {},
   "source": [
    "x)\tCompute the multiplicative inverse of a matrix "
   ]
  },
  {
   "cell_type": "code",
   "execution_count": 81,
   "id": "d99e5796",
   "metadata": {},
   "outputs": [
    {
     "name": "stdout",
     "output_type": "stream",
     "text": [
      "[[-3.  2.]\n",
      " [ 2. -1.]]\n"
     ]
    }
   ],
   "source": [
    "print(np.linalg.inv(s))"
   ]
  },
  {
   "cell_type": "markdown",
   "id": "4e7f8568",
   "metadata": {},
   "source": [
    "xi)\tCompute the rank of a matrix "
   ]
  },
  {
   "cell_type": "code",
   "execution_count": 83,
   "id": "07d9b1a1",
   "metadata": {},
   "outputs": [
    {
     "name": "stdout",
     "output_type": "stream",
     "text": [
      "2\n"
     ]
    }
   ],
   "source": [
    "print(np.linalg.matrix_rank(s))"
   ]
  },
  {
   "cell_type": "markdown",
   "id": "a2863a48",
   "metadata": {},
   "source": [
    "Compute the determinant of an array"
   ]
  },
  {
   "cell_type": "code",
   "execution_count": 84,
   "id": "29ae29d0",
   "metadata": {},
   "outputs": [
    {
     "name": "stdout",
     "output_type": "stream",
     "text": [
      "-1.0\n"
     ]
    }
   ],
   "source": [
    "print(np.linalg.det(s))"
   ]
  }
 ],
 "metadata": {
  "kernelspec": {
   "display_name": "Python 3 (ipykernel)",
   "language": "python",
   "name": "python3"
  },
  "language_info": {
   "codemirror_mode": {
    "name": "ipython",
    "version": 3
   },
   "file_extension": ".py",
   "mimetype": "text/x-python",
   "name": "python",
   "nbconvert_exporter": "python",
   "pygments_lexer": "ipython3",
   "version": "3.9.7"
  }
 },
 "nbformat": 4,
 "nbformat_minor": 5
}
